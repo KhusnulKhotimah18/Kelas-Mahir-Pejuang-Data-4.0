{
  "cells": [
    {
      "cell_type": "markdown",
      "id": "dbfac755-b0b5-46fb-b9df-993b584575ad",
      "metadata": {
        "id": "dbfac755-b0b5-46fb-b9df-993b584575ad"
      },
      "source": [
        "# Final Project Data Classification"
      ]
    },
    {
      "cell_type": "markdown",
      "id": "e3e36604-0d72-41f7-ab35-82357052a1f3",
      "metadata": {
        "id": "e3e36604-0d72-41f7-ab35-82357052a1f3"
      },
      "source": [
        "```\n",
        "Nama Ketua : 1. Zakiah Intan Maula (2100015043) ([Bayes] clasification)\n",
        "             2. Khusnul Khotimah (2100015009) ([RF] clasification)\n",
        "             3. Sona Regina Salsabila (2100015053) ([SVM] clasification)\n",
        "             4. Dewi Rismawati (2100015008) ([MLR] clasification)\n",
        "             5. Badzliana Aqmar Suris (2100015016) ([KNN] clasification)\n",
        "             \n",
        "```"
      ]
    },
    {
      "cell_type": "markdown",
      "id": "cdf50ee4-971e-4d59-9c14-ad969eb7dddd",
      "metadata": {
        "id": "cdf50ee4-971e-4d59-9c14-ad969eb7dddd"
      },
      "source": [
        "# Import Librarry"
      ]
    },
    {
      "cell_type": "code",
      "execution_count": null,
      "id": "fba29d29-34e9-4061-872a-c9ca6faf3a96",
      "metadata": {
        "id": "fba29d29-34e9-4061-872a-c9ca6faf3a96"
      },
      "outputs": [],
      "source": [
        "import numpy as np\n",
        "import pandas as pd\n",
        "import seaborn as sns\n",
        "import matplotlib.pyplot as plt\n",
        "%matplotlib inline"
      ]
    },
    {
      "cell_type": "markdown",
      "id": "1bb4b5d6-40a2-4dfe-8f3d-a412dd77db9b",
      "metadata": {
        "id": "1bb4b5d6-40a2-4dfe-8f3d-a412dd77db9b"
      },
      "source": [
        "# Import Data"
      ]
    },
    {
      "cell_type": "code",
      "execution_count": null,
      "id": "1b03c0da-0e41-4ad4-b8dc-043c7268d24d",
      "metadata": {
        "id": "1b03c0da-0e41-4ad4-b8dc-043c7268d24d",
        "colab": {
          "base_uri": "https://localhost:8080/"
        },
        "outputId": "41465a1b-ef6e-4c27-c45d-be3f41f6c83d"
      },
      "outputs": [
        {
          "output_type": "execute_result",
          "data": {
            "text/plain": [
              "      fixed acidity  volatile acidity  citric acid  residual sugar  chlorides  \\\n",
              "0               7.4             0.700         0.00             1.9      0.076   \n",
              "1               7.8             0.880         0.00             2.6      0.098   \n",
              "2               7.8             0.760         0.04             2.3      0.092   \n",
              "3              11.2             0.280         0.56             1.9      0.075   \n",
              "4               7.4             0.700         0.00             1.9      0.076   \n",
              "...             ...               ...          ...             ...        ...   \n",
              "1594            6.2             0.600         0.08             2.0      0.090   \n",
              "1595            5.9             0.550         0.10             2.2      0.062   \n",
              "1596            6.3             0.510         0.13             2.3      0.076   \n",
              "1597            5.9             0.645         0.12             2.0      0.075   \n",
              "1598            6.0             0.310         0.47             3.6      0.067   \n",
              "\n",
              "      free sulfur dioxide  total sulfur dioxide  density    pH  sulphates  \\\n",
              "0                    11.0                  34.0  0.99780  3.51       0.56   \n",
              "1                    25.0                  67.0  0.99680  3.20       0.68   \n",
              "2                    15.0                  54.0  0.99700  3.26       0.65   \n",
              "3                    17.0                  60.0  0.99800  3.16       0.58   \n",
              "4                    11.0                  34.0  0.99780  3.51       0.56   \n",
              "...                   ...                   ...      ...   ...        ...   \n",
              "1594                 32.0                  44.0  0.99490  3.45       0.58   \n",
              "1595                 39.0                  51.0  0.99512  3.52       0.76   \n",
              "1596                 29.0                  40.0  0.99574  3.42       0.75   \n",
              "1597                 32.0                  44.0  0.99547  3.57       0.71   \n",
              "1598                 18.0                  42.0  0.99549  3.39       0.66   \n",
              "\n",
              "      alcohol  quality  \n",
              "0         9.4        5  \n",
              "1         9.8        5  \n",
              "2         9.8        5  \n",
              "3         9.8        6  \n",
              "4         9.4        5  \n",
              "...       ...      ...  \n",
              "1594     10.5        5  \n",
              "1595     11.2        6  \n",
              "1596     11.0        6  \n",
              "1597     10.2        5  \n",
              "1598     11.0        6  \n",
              "\n",
              "[1599 rows x 12 columns]"
            ],
            "text/html": [
              "\n",
              "  <div id=\"df-9e1276ca-cfde-408d-923a-509430ee611c\">\n",
              "    <div class=\"colab-df-container\">\n",
              "      <div>\n",
              "<style scoped>\n",
              "    .dataframe tbody tr th:only-of-type {\n",
              "        vertical-align: middle;\n",
              "    }\n",
              "\n",
              "    .dataframe tbody tr th {\n",
              "        vertical-align: top;\n",
              "    }\n",
              "\n",
              "    .dataframe thead th {\n",
              "        text-align: right;\n",
              "    }\n",
              "</style>\n",
              "<table border=\"1\" class=\"dataframe\">\n",
              "  <thead>\n",
              "    <tr style=\"text-align: right;\">\n",
              "      <th></th>\n",
              "      <th>fixed acidity</th>\n",
              "      <th>volatile acidity</th>\n",
              "      <th>citric acid</th>\n",
              "      <th>residual sugar</th>\n",
              "      <th>chlorides</th>\n",
              "      <th>free sulfur dioxide</th>\n",
              "      <th>total sulfur dioxide</th>\n",
              "      <th>density</th>\n",
              "      <th>pH</th>\n",
              "      <th>sulphates</th>\n",
              "      <th>alcohol</th>\n",
              "      <th>quality</th>\n",
              "    </tr>\n",
              "  </thead>\n",
              "  <tbody>\n",
              "    <tr>\n",
              "      <th>0</th>\n",
              "      <td>7.4</td>\n",
              "      <td>0.700</td>\n",
              "      <td>0.00</td>\n",
              "      <td>1.9</td>\n",
              "      <td>0.076</td>\n",
              "      <td>11.0</td>\n",
              "      <td>34.0</td>\n",
              "      <td>0.99780</td>\n",
              "      <td>3.51</td>\n",
              "      <td>0.56</td>\n",
              "      <td>9.4</td>\n",
              "      <td>5</td>\n",
              "    </tr>\n",
              "    <tr>\n",
              "      <th>1</th>\n",
              "      <td>7.8</td>\n",
              "      <td>0.880</td>\n",
              "      <td>0.00</td>\n",
              "      <td>2.6</td>\n",
              "      <td>0.098</td>\n",
              "      <td>25.0</td>\n",
              "      <td>67.0</td>\n",
              "      <td>0.99680</td>\n",
              "      <td>3.20</td>\n",
              "      <td>0.68</td>\n",
              "      <td>9.8</td>\n",
              "      <td>5</td>\n",
              "    </tr>\n",
              "    <tr>\n",
              "      <th>2</th>\n",
              "      <td>7.8</td>\n",
              "      <td>0.760</td>\n",
              "      <td>0.04</td>\n",
              "      <td>2.3</td>\n",
              "      <td>0.092</td>\n",
              "      <td>15.0</td>\n",
              "      <td>54.0</td>\n",
              "      <td>0.99700</td>\n",
              "      <td>3.26</td>\n",
              "      <td>0.65</td>\n",
              "      <td>9.8</td>\n",
              "      <td>5</td>\n",
              "    </tr>\n",
              "    <tr>\n",
              "      <th>3</th>\n",
              "      <td>11.2</td>\n",
              "      <td>0.280</td>\n",
              "      <td>0.56</td>\n",
              "      <td>1.9</td>\n",
              "      <td>0.075</td>\n",
              "      <td>17.0</td>\n",
              "      <td>60.0</td>\n",
              "      <td>0.99800</td>\n",
              "      <td>3.16</td>\n",
              "      <td>0.58</td>\n",
              "      <td>9.8</td>\n",
              "      <td>6</td>\n",
              "    </tr>\n",
              "    <tr>\n",
              "      <th>4</th>\n",
              "      <td>7.4</td>\n",
              "      <td>0.700</td>\n",
              "      <td>0.00</td>\n",
              "      <td>1.9</td>\n",
              "      <td>0.076</td>\n",
              "      <td>11.0</td>\n",
              "      <td>34.0</td>\n",
              "      <td>0.99780</td>\n",
              "      <td>3.51</td>\n",
              "      <td>0.56</td>\n",
              "      <td>9.4</td>\n",
              "      <td>5</td>\n",
              "    </tr>\n",
              "    <tr>\n",
              "      <th>...</th>\n",
              "      <td>...</td>\n",
              "      <td>...</td>\n",
              "      <td>...</td>\n",
              "      <td>...</td>\n",
              "      <td>...</td>\n",
              "      <td>...</td>\n",
              "      <td>...</td>\n",
              "      <td>...</td>\n",
              "      <td>...</td>\n",
              "      <td>...</td>\n",
              "      <td>...</td>\n",
              "      <td>...</td>\n",
              "    </tr>\n",
              "    <tr>\n",
              "      <th>1594</th>\n",
              "      <td>6.2</td>\n",
              "      <td>0.600</td>\n",
              "      <td>0.08</td>\n",
              "      <td>2.0</td>\n",
              "      <td>0.090</td>\n",
              "      <td>32.0</td>\n",
              "      <td>44.0</td>\n",
              "      <td>0.99490</td>\n",
              "      <td>3.45</td>\n",
              "      <td>0.58</td>\n",
              "      <td>10.5</td>\n",
              "      <td>5</td>\n",
              "    </tr>\n",
              "    <tr>\n",
              "      <th>1595</th>\n",
              "      <td>5.9</td>\n",
              "      <td>0.550</td>\n",
              "      <td>0.10</td>\n",
              "      <td>2.2</td>\n",
              "      <td>0.062</td>\n",
              "      <td>39.0</td>\n",
              "      <td>51.0</td>\n",
              "      <td>0.99512</td>\n",
              "      <td>3.52</td>\n",
              "      <td>0.76</td>\n",
              "      <td>11.2</td>\n",
              "      <td>6</td>\n",
              "    </tr>\n",
              "    <tr>\n",
              "      <th>1596</th>\n",
              "      <td>6.3</td>\n",
              "      <td>0.510</td>\n",
              "      <td>0.13</td>\n",
              "      <td>2.3</td>\n",
              "      <td>0.076</td>\n",
              "      <td>29.0</td>\n",
              "      <td>40.0</td>\n",
              "      <td>0.99574</td>\n",
              "      <td>3.42</td>\n",
              "      <td>0.75</td>\n",
              "      <td>11.0</td>\n",
              "      <td>6</td>\n",
              "    </tr>\n",
              "    <tr>\n",
              "      <th>1597</th>\n",
              "      <td>5.9</td>\n",
              "      <td>0.645</td>\n",
              "      <td>0.12</td>\n",
              "      <td>2.0</td>\n",
              "      <td>0.075</td>\n",
              "      <td>32.0</td>\n",
              "      <td>44.0</td>\n",
              "      <td>0.99547</td>\n",
              "      <td>3.57</td>\n",
              "      <td>0.71</td>\n",
              "      <td>10.2</td>\n",
              "      <td>5</td>\n",
              "    </tr>\n",
              "    <tr>\n",
              "      <th>1598</th>\n",
              "      <td>6.0</td>\n",
              "      <td>0.310</td>\n",
              "      <td>0.47</td>\n",
              "      <td>3.6</td>\n",
              "      <td>0.067</td>\n",
              "      <td>18.0</td>\n",
              "      <td>42.0</td>\n",
              "      <td>0.99549</td>\n",
              "      <td>3.39</td>\n",
              "      <td>0.66</td>\n",
              "      <td>11.0</td>\n",
              "      <td>6</td>\n",
              "    </tr>\n",
              "  </tbody>\n",
              "</table>\n",
              "<p>1599 rows × 12 columns</p>\n",
              "</div>\n",
              "      <button class=\"colab-df-convert\" onclick=\"convertToInteractive('df-9e1276ca-cfde-408d-923a-509430ee611c')\"\n",
              "              title=\"Convert this dataframe to an interactive table.\"\n",
              "              style=\"display:none;\">\n",
              "        \n",
              "  <svg xmlns=\"http://www.w3.org/2000/svg\" height=\"24px\"viewBox=\"0 0 24 24\"\n",
              "       width=\"24px\">\n",
              "    <path d=\"M0 0h24v24H0V0z\" fill=\"none\"/>\n",
              "    <path d=\"M18.56 5.44l.94 2.06.94-2.06 2.06-.94-2.06-.94-.94-2.06-.94 2.06-2.06.94zm-11 1L8.5 8.5l.94-2.06 2.06-.94-2.06-.94L8.5 2.5l-.94 2.06-2.06.94zm10 10l.94 2.06.94-2.06 2.06-.94-2.06-.94-.94-2.06-.94 2.06-2.06.94z\"/><path d=\"M17.41 7.96l-1.37-1.37c-.4-.4-.92-.59-1.43-.59-.52 0-1.04.2-1.43.59L10.3 9.45l-7.72 7.72c-.78.78-.78 2.05 0 2.83L4 21.41c.39.39.9.59 1.41.59.51 0 1.02-.2 1.41-.59l7.78-7.78 2.81-2.81c.8-.78.8-2.07 0-2.86zM5.41 20L4 18.59l7.72-7.72 1.47 1.35L5.41 20z\"/>\n",
              "  </svg>\n",
              "      </button>\n",
              "      \n",
              "  <style>\n",
              "    .colab-df-container {\n",
              "      display:flex;\n",
              "      flex-wrap:wrap;\n",
              "      gap: 12px;\n",
              "    }\n",
              "\n",
              "    .colab-df-convert {\n",
              "      background-color: #E8F0FE;\n",
              "      border: none;\n",
              "      border-radius: 50%;\n",
              "      cursor: pointer;\n",
              "      display: none;\n",
              "      fill: #1967D2;\n",
              "      height: 32px;\n",
              "      padding: 0 0 0 0;\n",
              "      width: 32px;\n",
              "    }\n",
              "\n",
              "    .colab-df-convert:hover {\n",
              "      background-color: #E2EBFA;\n",
              "      box-shadow: 0px 1px 2px rgba(60, 64, 67, 0.3), 0px 1px 3px 1px rgba(60, 64, 67, 0.15);\n",
              "      fill: #174EA6;\n",
              "    }\n",
              "\n",
              "    [theme=dark] .colab-df-convert {\n",
              "      background-color: #3B4455;\n",
              "      fill: #D2E3FC;\n",
              "    }\n",
              "\n",
              "    [theme=dark] .colab-df-convert:hover {\n",
              "      background-color: #434B5C;\n",
              "      box-shadow: 0px 1px 3px 1px rgba(0, 0, 0, 0.15);\n",
              "      filter: drop-shadow(0px 1px 2px rgba(0, 0, 0, 0.3));\n",
              "      fill: #FFFFFF;\n",
              "    }\n",
              "  </style>\n",
              "\n",
              "      <script>\n",
              "        const buttonEl =\n",
              "          document.querySelector('#df-9e1276ca-cfde-408d-923a-509430ee611c button.colab-df-convert');\n",
              "        buttonEl.style.display =\n",
              "          google.colab.kernel.accessAllowed ? 'block' : 'none';\n",
              "\n",
              "        async function convertToInteractive(key) {\n",
              "          const element = document.querySelector('#df-9e1276ca-cfde-408d-923a-509430ee611c');\n",
              "          const dataTable =\n",
              "            await google.colab.kernel.invokeFunction('convertToInteractive',\n",
              "                                                     [key], {});\n",
              "          if (!dataTable) return;\n",
              "\n",
              "          const docLinkHtml = 'Like what you see? Visit the ' +\n",
              "            '<a target=\"_blank\" href=https://colab.research.google.com/notebooks/data_table.ipynb>data table notebook</a>'\n",
              "            + ' to learn more about interactive tables.';\n",
              "          element.innerHTML = '';\n",
              "          dataTable['output_type'] = 'display_data';\n",
              "          await google.colab.output.renderOutput(dataTable, element);\n",
              "          const docLink = document.createElement('div');\n",
              "          docLink.innerHTML = docLinkHtml;\n",
              "          element.appendChild(docLink);\n",
              "        }\n",
              "      </script>\n",
              "    </div>\n",
              "  </div>\n",
              "  "
            ]
          },
          "metadata": {},
          "execution_count": 24
        }
      ],
      "source": [
        "df = pd.read_csv('/content/Dataset_Clasification.csv')\n",
        "df"
      ]
    },
    {
      "cell_type": "markdown",
      "id": "cabf5730-fafd-4ecf-a15c-9a99be34a815",
      "metadata": {
        "id": "cabf5730-fafd-4ecf-a15c-9a99be34a815"
      },
      "source": [
        "# Preprocessing Data"
      ]
    },
    {
      "cell_type": "code",
      "source": [
        "df.shape "
      ],
      "metadata": {
        "colab": {
          "base_uri": "https://localhost:8080/"
        },
        "id": "n8MFWKySqHra",
        "outputId": "f700d045-baa1-4821-cd9d-14cef46b24a0"
      },
      "id": "n8MFWKySqHra",
      "execution_count": null,
      "outputs": [
        {
          "output_type": "execute_result",
          "data": {
            "text/plain": [
              "(1599, 12)"
            ]
          },
          "metadata": {},
          "execution_count": 25
        }
      ]
    },
    {
      "cell_type": "code",
      "source": [
        "df.info()"
      ],
      "metadata": {
        "colab": {
          "base_uri": "https://localhost:8080/"
        },
        "id": "nBfWqSZ-rEto",
        "outputId": "36429553-959a-4810-e03e-626fb85ad53b"
      },
      "id": "nBfWqSZ-rEto",
      "execution_count": null,
      "outputs": [
        {
          "output_type": "stream",
          "name": "stdout",
          "text": [
            "<class 'pandas.core.frame.DataFrame'>\n",
            "RangeIndex: 1599 entries, 0 to 1598\n",
            "Data columns (total 12 columns):\n",
            " #   Column                Non-Null Count  Dtype  \n",
            "---  ------                --------------  -----  \n",
            " 0   fixed acidity         1599 non-null   float64\n",
            " 1   volatile acidity      1599 non-null   float64\n",
            " 2   citric acid           1599 non-null   float64\n",
            " 3   residual sugar        1599 non-null   float64\n",
            " 4   chlorides             1599 non-null   float64\n",
            " 5   free sulfur dioxide   1599 non-null   float64\n",
            " 6   total sulfur dioxide  1599 non-null   float64\n",
            " 7   density               1599 non-null   float64\n",
            " 8   pH                    1599 non-null   float64\n",
            " 9   sulphates             1599 non-null   float64\n",
            " 10  alcohol               1599 non-null   float64\n",
            " 11  quality               1599 non-null   int64  \n",
            "dtypes: float64(11), int64(1)\n",
            "memory usage: 150.0 KB\n"
          ]
        }
      ]
    },
    {
      "cell_type": "code",
      "execution_count": null,
      "id": "0d03bf53-59d3-4c88-bcaf-2b0b9fadef37",
      "metadata": {
        "id": "0d03bf53-59d3-4c88-bcaf-2b0b9fadef37"
      },
      "outputs": [],
      "source": [
        "x = df.drop(columns=['quality'], axis = 1)\n",
        "y = df['quality']"
      ]
    },
    {
      "cell_type": "code",
      "source": [
        "from sklearn.model_selection import train_test_split\n",
        "x_train, x_test, y_train, y_test = train_test_split( x, y, test_size=0.2, random_state=8)\n",
        "print ('Train set:', x_train.shape,  y_train.shape)\n",
        "print ('Test set:', x_test.shape,  y_test.shape)"
      ],
      "metadata": {
        "colab": {
          "base_uri": "https://localhost:8080/"
        },
        "id": "zr_7s4mlsPNH",
        "outputId": "7b7237d0-67dd-4872-89e6-7a01e5d4d53e"
      },
      "id": "zr_7s4mlsPNH",
      "execution_count": null,
      "outputs": [
        {
          "output_type": "stream",
          "name": "stdout",
          "text": [
            "Train set: (1279, 11) (1279,)\n",
            "Test set: (320, 11) (320,)\n"
          ]
        }
      ]
    },
    {
      "cell_type": "markdown",
      "id": "55086301-9e5a-4fe3-af25-04f63a884e2e",
      "metadata": {
        "id": "55086301-9e5a-4fe3-af25-04f63a884e2e"
      },
      "source": [
        "# Model"
      ]
    },
    {
      "cell_type": "markdown",
      "id": "8a93bdcc-784a-4ab9-9a34-86a552a2315a",
      "metadata": {
        "id": "8a93bdcc-784a-4ab9-9a34-86a552a2315a"
      },
      "source": [
        "## [SVM] Model ke 1"
      ]
    },
    {
      "cell_type": "code",
      "source": [
        "from sklearn import svm\n",
        "model = svm.SVC(kernel = 'linear')\n",
        "\n",
        "#Training the SVM Model\n",
        "model.fit(x_train, y_train)\n",
        "\n",
        "y_pred = model.predict(x_test)"
      ],
      "metadata": {
        "id": "4QyWf30rWVzw"
      },
      "id": "4QyWf30rWVzw",
      "execution_count": null,
      "outputs": []
    },
    {
      "cell_type": "markdown",
      "id": "029fa31f-4a1e-4b16-99d0-4d3db661ff74",
      "metadata": {
        "id": "029fa31f-4a1e-4b16-99d0-4d3db661ff74"
      },
      "source": [
        "### Evaluasi Model 1"
      ]
    },
    {
      "cell_type": "code",
      "source": [
        "import seaborn as sn\n",
        "\n",
        "from sklearn import metrics\n",
        "print(metrics.classification_report(y_pred, y_test))\n",
        "\n",
        "confusion_matrix = pd.crosstab(y_test, y_pred, rownames=['Actual'], colnames=['Predicted'])\n",
        "sn.heatmap(confusion_matrix, annot=True, cmap=plt.cm.Blues)\n",
        "\n",
        "import matplotlib.pyplot as plt\n",
        "print('Accuracy: ',metrics.accuracy_score(y_test, y_pred))\n",
        "plt.show()"
      ],
      "metadata": {
        "id": "4WywnWkvWnm3",
        "colab": {
          "base_uri": "https://localhost:8080/",
          "height": 646
        },
        "outputId": "8d557f18-7dd6-4152-e884-20d0c1fa636a"
      },
      "id": "4WywnWkvWnm3",
      "execution_count": null,
      "outputs": [
        {
          "output_type": "stream",
          "name": "stderr",
          "text": [
            "/usr/local/lib/python3.8/dist-packages/sklearn/metrics/_classification.py:1318: UndefinedMetricWarning: Recall and F-score are ill-defined and being set to 0.0 in labels with no true samples. Use `zero_division` parameter to control this behavior.\n",
            "  _warn_prf(average, modifier, msg_start, len(result))\n",
            "/usr/local/lib/python3.8/dist-packages/sklearn/metrics/_classification.py:1318: UndefinedMetricWarning: Recall and F-score are ill-defined and being set to 0.0 in labels with no true samples. Use `zero_division` parameter to control this behavior.\n",
            "  _warn_prf(average, modifier, msg_start, len(result))\n",
            "/usr/local/lib/python3.8/dist-packages/sklearn/metrics/_classification.py:1318: UndefinedMetricWarning: Recall and F-score are ill-defined and being set to 0.0 in labels with no true samples. Use `zero_division` parameter to control this behavior.\n",
            "  _warn_prf(average, modifier, msg_start, len(result))\n"
          ]
        },
        {
          "output_type": "stream",
          "name": "stdout",
          "text": [
            "              precision    recall  f1-score   support\n",
            "\n",
            "           3       0.00      0.00      0.00         0\n",
            "           4       0.00      0.00      0.00         0\n",
            "           5       0.80      0.64      0.71       171\n",
            "           6       0.61      0.53      0.57       149\n",
            "           7       0.00      0.00      0.00         0\n",
            "           8       0.00      0.00      0.00         0\n",
            "\n",
            "    accuracy                           0.59       320\n",
            "   macro avg       0.24      0.20      0.21       320\n",
            "weighted avg       0.71      0.59      0.65       320\n",
            "\n",
            "Accuracy:  0.590625\n"
          ]
        },
        {
          "output_type": "display_data",
          "data": {
            "text/plain": [
              "<Figure size 432x288 with 2 Axes>"
            ],
            "image/png": "[encoded data removed]"
          },
          "metadata": {
            "needs_background": "light"
          }
        }
      ]
    },
    {
      "cell_type": "markdown",
      "id": "4a977a82-85dc-4495-bd1c-8514c7e17667",
      "metadata": {
        "id": "4a977a82-85dc-4495-bd1c-8514c7e17667"
      },
      "source": [
        "## [KNN] Model ke 2"
      ]
    },
    {
      "cell_type": "code",
      "execution_count": null,
      "id": "c8dd7c97-5152-44e0-899f-700c0eafdd0f",
      "metadata": {
        "id": "c8dd7c97-5152-44e0-899f-700c0eafdd0f"
      },
      "outputs": [],
      "source": [
        "from sklearn.neighbors import KNeighborsClassifier\n",
        "\n",
        "KNN_model=KNeighborsClassifier(n_neighbors=40, weights='distance')\n",
        "KNN_model.fit(x_train,y_train)\n",
        "y_pred=KNN_model.predict(x_test)"
      ]
    },
    {
      "cell_type": "markdown",
      "id": "73f71e64-584b-4520-8030-f1400e34167c",
      "metadata": {
        "id": "73f71e64-584b-4520-8030-f1400e34167c"
      },
      "source": [
        "### Evaluasi Model 2"
      ]
    },
    {
      "cell_type": "code",
      "source": [
        "import seaborn as sn\n",
        "import matplotlib.pyplot as plt\n",
        "from sklearn import metrics\n",
        "print(metrics.classification_report(y_pred, y_test))\n",
        "\n",
        "confusion_matrix = pd.crosstab(y_test, y_pred, rownames=['Actual'], colnames=['Predicted'])\n",
        "sn.heatmap(confusion_matrix, annot=False, cmap=plt.cm.Blues)\n",
        "\n",
        "print('Accuracy: ',metrics.accuracy_score(y_test, y_pred))\n",
        "plt.show()"
      ],
      "metadata": {
        "id": "0mK-uwfEw9BJ",
        "colab": {
          "base_uri": "https://localhost:8080/",
          "height": 646
        },
        "outputId": "be976682-6aeb-4851-8a3a-34d57c9acb1a"
      },
      "id": "0mK-uwfEw9BJ",
      "execution_count": null,
      "outputs": [
        {
          "output_type": "stream",
          "name": "stderr",
          "text": [
            "/usr/local/lib/python3.8/dist-packages/sklearn/metrics/_classification.py:1318: UndefinedMetricWarning: Recall and F-score are ill-defined and being set to 0.0 in labels with no true samples. Use `zero_division` parameter to control this behavior.\n",
            "  _warn_prf(average, modifier, msg_start, len(result))\n",
            "/usr/local/lib/python3.8/dist-packages/sklearn/metrics/_classification.py:1318: UndefinedMetricWarning: Recall and F-score are ill-defined and being set to 0.0 in labels with no true samples. Use `zero_division` parameter to control this behavior.\n",
            "  _warn_prf(average, modifier, msg_start, len(result))\n",
            "/usr/local/lib/python3.8/dist-packages/sklearn/metrics/_classification.py:1318: UndefinedMetricWarning: Recall and F-score are ill-defined and being set to 0.0 in labels with no true samples. Use `zero_division` parameter to control this behavior.\n",
            "  _warn_prf(average, modifier, msg_start, len(result))\n"
          ]
        },
        {
          "output_type": "stream",
          "name": "stdout",
          "text": [
            "              precision    recall  f1-score   support\n",
            "\n",
            "           3       0.00      0.00      0.00         0\n",
            "           4       0.00      0.00      0.00         0\n",
            "           5       0.75      0.66      0.70       157\n",
            "           6       0.67      0.61      0.64       142\n",
            "           7       0.46      0.81      0.59        21\n",
            "           8       0.00      0.00      0.00         0\n",
            "\n",
            "    accuracy                           0.65       320\n",
            "   macro avg       0.31      0.35      0.32       320\n",
            "weighted avg       0.70      0.65      0.67       320\n",
            "\n",
            "Accuracy:  0.646875\n"
          ]
        },
        {
          "output_type": "display_data",
          "data": {
            "text/plain": [
              "<Figure size 432x288 with 2 Axes>"
            ],
            "image/png": "[encoded data removed]"
          },
          "metadata": {
            "needs_background": "light"
          }
        }
      ]
    },
    {
      "cell_type": "markdown",
      "source": [
        "# [Bayes] Model ke 3"
      ],
      "metadata": {
        "id": "V7B1PkRzANb_"
      },
      "id": "V7B1PkRzANb_"
    },
    {
      "cell_type": "code",
      "source": [
        "# Gaussian\n",
        "from sklearn.naive_bayes import GaussianNB\n",
        "\n",
        "clas = GaussianNB()\n",
        "\n",
        "clas.fit(x_train, y_train)\n",
        "\n",
        "y_predd = clas.predict(x_test)"
      ],
      "metadata": {
        "id": "QSPESzLCF1N3"
      },
      "id": "QSPESzLCF1N3",
      "execution_count": null,
      "outputs": []
    },
    {
      "cell_type": "code",
      "source": [
        "from sklearn.metrics import accuracy_score\n",
        "print(accuracy_score(y_test, y_predd))"
      ],
      "metadata": {
        "colab": {
          "base_uri": "https://localhost:8080/"
        },
        "id": "p5uALQGAGHpE",
        "outputId": "3d79e47b-af1a-4f63-a6f1-5445c793c1a2"
      },
      "id": "p5uALQGAGHpE",
      "execution_count": null,
      "outputs": [
        {
          "output_type": "stream",
          "name": "stdout",
          "text": [
            "0.578125\n"
          ]
        }
      ]
    },
    {
      "cell_type": "markdown",
      "source": [
        "## Evaluasi Model 3"
      ],
      "metadata": {
        "id": "haRSJtRnAWqE"
      },
      "id": "haRSJtRnAWqE"
    },
    {
      "cell_type": "code",
      "source": [
        "from sklearn.metrics import confusion_matrix\n",
        "cm = confusion_matrix(y_test, y_predd)\n",
        "sns.heatmap(cm, annot=True)\n",
        "plt.savefig('confusion.png')"
      ],
      "metadata": {
        "colab": {
          "base_uri": "https://localhost:8080/",
          "height": 265
        },
        "id": "BLIKV1_aHDgU",
        "outputId": "ce6ef3e9-507d-473b-c943-acd84326922c"
      },
      "id": "BLIKV1_aHDgU",
      "execution_count": null,
      "outputs": [
        {
          "output_type": "display_data",
          "data": {
            "text/plain": [
              "<Figure size 432x288 with 2 Axes>"
            ],
            "image/png": "[encoded data removed]"
          },
          "metadata": {
            "needs_background": "light"
          }
        }
      ]
    },
    {
      "cell_type": "code",
      "source": [
        "from sklearn.metrics import classification_report\n",
        "print(classification_report(y_test, y_predd))"
      ],
      "metadata": {
        "colab": {
          "base_uri": "https://localhost:8080/"
        },
        "id": "fgxkwA1gHyRX",
        "outputId": "1923ecbd-7c43-4a9c-a72e-90bc10308ad4"
      },
      "id": "fgxkwA1gHyRX",
      "execution_count": null,
      "outputs": [
        {
          "output_type": "stream",
          "name": "stdout",
          "text": [
            "              precision    recall  f1-score   support\n",
            "\n",
            "           3       0.00      0.00      0.00         4\n",
            "           4       0.22      0.20      0.21        10\n",
            "           5       0.64      0.77      0.70       137\n",
            "           6       0.60      0.46      0.52       129\n",
            "           7       0.42      0.51      0.46        37\n",
            "           8       0.00      0.00      0.00         3\n",
            "\n",
            "    accuracy                           0.58       320\n",
            "   macro avg       0.31      0.32      0.32       320\n",
            "weighted avg       0.57      0.58      0.57       320\n",
            "\n"
          ]
        }
      ]
    },
    {
      "cell_type": "markdown",
      "source": [
        "#[Multivariat Linier Regression] Model ke 4"
      ],
      "metadata": {
        "id": "vD1yM5OdLWW-"
      },
      "id": "vD1yM5OdLWW-"
    },
    {
      "cell_type": "code",
      "source": [
        "from sklearn.linear_model import LinearRegression\n",
        "import statsmodels.api as sm\n",
        "import seaborn as sn\n",
        "import matplotlib.pyplot as plt\n",
        "from sklearn import metrics\n",
        "from sklearn.metrics import r2_score\n"
      ],
      "metadata": {
        "id": "uqvKDC6BLgWw"
      },
      "id": "uqvKDC6BLgWw",
      "execution_count": null,
      "outputs": []
    },
    {
      "cell_type": "code",
      "source": [
        "# dengan sklearn\n",
        "lin_reg = LinearRegression()\n",
        "lin_reg.fit(x_train, y_train)\n",
        "y_pred = lin_reg.predict(x_test)\n",
        "\n",
        "print('Intercept: \\n', lin_reg.intercept_)\n",
        "print('Coefficients: \\n', lin_reg.coef_)"
      ],
      "metadata": {
        "colab": {
          "base_uri": "https://localhost:8080/"
        },
        "id": "TkxJLq4Vfkyh",
        "outputId": "6ec733c7-7b52-4547-d36f-2425b7f4f200"
      },
      "id": "TkxJLq4Vfkyh",
      "execution_count": null,
      "outputs": [
        {
          "output_type": "stream",
          "name": "stdout",
          "text": [
            "Intercept: \n",
            " 29.882304435595007\n",
            "Coefficients: \n",
            " [ 3.40e-02 -9.90e-01 -1.41e-01  1.51e-02 -1.16e+00  5.31e-03 -3.34e-03\n",
            " -2.62e+01 -3.77e-01  9.37e-01  2.76e-01]\n"
          ]
        }
      ]
    },
    {
      "cell_type": "code",
      "source": [
        "# dengan model statistik\n",
        "x = sm.add_constant(x) # adding a constant\n",
        " \n",
        "model = sm.OLS(y, x).fit()\n",
        "predictions = model.predict(x) \n",
        " \n",
        "print_model = model.summary()\n",
        "print(print_model)"
      ],
      "metadata": {
        "colab": {
          "base_uri": "https://localhost:8080/"
        },
        "id": "xgGN9NMkeRkJ",
        "outputId": "856e5d2f-be60-498e-92aa-26a8f6a975b4"
      },
      "id": "xgGN9NMkeRkJ",
      "execution_count": null,
      "outputs": [
        {
          "output_type": "stream",
          "name": "stdout",
          "text": [
            "                            OLS Regression Results                            \n",
            "==============================================================================\n",
            "Dep. Variable:                quality   R-squared:                       0.361\n",
            "Model:                            OLS   Adj. R-squared:                  0.356\n",
            "Method:                 Least Squares   F-statistic:                     81.35\n",
            "Date:                Fri, 30 Dec 2022   Prob (F-statistic):          1.79e-145\n",
            "Time:                        10:37:25   Log-Likelihood:                -1569.1\n",
            "No. Observations:                1599   AIC:                             3162.\n",
            "Df Residuals:                    1587   BIC:                             3227.\n",
            "Df Model:                          11                                         \n",
            "Covariance Type:            nonrobust                                         \n",
            "========================================================================================\n",
            "                           coef    std err          t      P>|t|      [0.025      0.975]\n",
            "----------------------------------------------------------------------------------------\n",
            "const                   21.9652     21.195      1.036      0.300     -19.607      63.538\n",
            "fixed acidity            0.0250      0.026      0.963      0.336      -0.026       0.076\n",
            "volatile acidity        -1.0836      0.121     -8.948      0.000      -1.321      -0.846\n",
            "citric acid             -0.1826      0.147     -1.240      0.215      -0.471       0.106\n",
            "residual sugar           0.0163      0.015      1.089      0.276      -0.013       0.046\n",
            "chlorides               -1.8742      0.419     -4.470      0.000      -2.697      -1.052\n",
            "free sulfur dioxide      0.0044      0.002      2.009      0.045       0.000       0.009\n",
            "total sulfur dioxide    -0.0033      0.001     -4.480      0.000      -0.005      -0.002\n",
            "density                -17.8812     21.633     -0.827      0.409     -60.314      24.551\n",
            "pH                      -0.4137      0.192     -2.159      0.031      -0.789      -0.038\n",
            "sulphates                0.9163      0.114      8.014      0.000       0.692       1.141\n",
            "alcohol                  0.2762      0.026     10.429      0.000       0.224       0.328\n",
            "==============================================================================\n",
            "Omnibus:                       27.376   Durbin-Watson:                   1.757\n",
            "Prob(Omnibus):                  0.000   Jarque-Bera (JB):               40.965\n",
            "Skew:                          -0.168   Prob(JB):                     1.27e-09\n",
            "Kurtosis:                       3.708   Cond. No.                     1.13e+05\n",
            "==============================================================================\n",
            "\n",
            "Notes:\n",
            "[1] Standard Errors assume that the covariance matrix of the errors is correctly specified.\n",
            "[2] The condition number is large, 1.13e+05. This might indicate that there are\n",
            "strong multicollinearity or other numerical problems.\n"
          ]
        }
      ]
    },
    {
      "cell_type": "markdown",
      "source": [
        "## Evaluasi model 4"
      ],
      "metadata": {
        "id": "M468j1doThsJ"
      },
      "id": "M468j1doThsJ"
    },
    {
      "cell_type": "code",
      "source": [
        "# Checking various accuracy:\n",
        "\n",
        "print(metrics.r2_score(y_pred, y_test))\n",
        "\n",
        "confusion_matrix = pd.crosstab(y_test, y_pred, rownames=['Actual'], colnames=['Predicted'])\n",
        "sn.heatmap(confusion_matrix, annot=False, cmap=plt.cm.Blues)\n",
        "\n",
        "print('Accuracy: ',metrics.r2_score(y_test, y_pred))\n",
        "plt.show()"
      ],
      "metadata": {
        "colab": {
          "base_uri": "https://localhost:8080/",
          "height": 419
        },
        "id": "Ix_3z1AJaMS5",
        "outputId": "7d8ff8ee-8cb0-405c-b303-0df08047b9f0"
      },
      "id": "Ix_3z1AJaMS5",
      "execution_count": null,
      "outputs": [
        {
          "output_type": "stream",
          "name": "stdout",
          "text": [
            "-0.9149578082661822\n",
            "Accuracy:  0.3588548729210793\n"
          ]
        },
        {
          "output_type": "display_data",
          "data": {
            "text/plain": [
              "<Figure size 432x288 with 2 Axes>"
            ],
            "image/png": "[encoded data removed]"
          },
          "metadata": {
            "needs_background": "light"
          }
        }
      ]
    },
    {
      "cell_type": "code",
      "source": [
        "lin_reg.score(x_test, y_test)"
      ],
      "metadata": {
        "colab": {
          "base_uri": "https://localhost:8080/"
        },
        "id": "i8Q6NJGoNV-k",
        "outputId": "423bcfbc-4742-44c8-f2db-980604a61f71"
      },
      "id": "i8Q6NJGoNV-k",
      "execution_count": null,
      "outputs": [
        {
          "output_type": "execute_result",
          "data": {
            "text/plain": [
              "0.3588548729210793"
            ]
          },
          "metadata": {},
          "execution_count": 25
        }
      ]
    },
    {
      "cell_type": "markdown",
      "source": [
        "#[Random Forest] Model ke 5"
      ],
      "metadata": {
        "id": "if9G16olQh3p"
      },
      "id": "if9G16olQh3p"
    },
    {
      "cell_type": "code",
      "source": [
        "x = df.drop(columns=['quality'], axis = 1)\n",
        "y = df['quality']\n",
        "\n",
        "from sklearn.model_selection import train_test_split\n",
        "x_train, x_test, y_train, y_test = train_test_split(x, y, test_size=0.20, random_state=0)"
      ],
      "metadata": {
        "id": "O2xx-mtnQvua"
      },
      "id": "O2xx-mtnQvua",
      "execution_count": null,
      "outputs": []
    },
    {
      "cell_type": "code",
      "source": [
        "from sklearn.ensemble import RandomForestClassifier\n",
        "\n",
        "model_3 = RandomForestClassifier(n_estimators=150, criterion='entropy', random_state=0,)\n",
        "model_3.fit(x_train, y_train)"
      ],
      "metadata": {
        "colab": {
          "base_uri": "https://localhost:8080/"
        },
        "id": "Op_mi6M3RdXj",
        "outputId": "413880af-2a45-4521-d4ad-0bacbb33ca37"
      },
      "id": "Op_mi6M3RdXj",
      "execution_count": null,
      "outputs": [
        {
          "output_type": "execute_result",
          "data": {
            "text/plain": [
              "RandomForestClassifier(criterion='entropy', n_estimators=150, random_state=0)"
            ]
          },
          "metadata": {},
          "execution_count": 33
        }
      ]
    },
    {
      "cell_type": "markdown",
      "source": [
        "##Evaluasi Model"
      ],
      "metadata": {
        "id": "cK4XrLqNU03w"
      },
      "id": "cK4XrLqNU03w"
    },
    {
      "cell_type": "code",
      "source": [
        "from sklearn.metrics import confusion_matrix\n",
        "coma = confusion_matrix(y_test, y_pred)\n",
        "sns.heatmap(coma, annot=True)\n",
        "plt.savefig('confusion.png')"
      ],
      "metadata": {
        "colab": {
          "base_uri": "https://localhost:8080/",
          "height": 265
        },
        "id": "28D2JwWIU6Bq",
        "outputId": "534e1dc3-17bc-46a2-8803-29e1c690a362"
      },
      "id": "28D2JwWIU6Bq",
      "execution_count": null,
      "outputs": [
        {
          "output_type": "display_data",
          "data": {
            "text/plain": [
              "<Figure size 432x288 with 2 Axes>"
            ],
            "image/png": "[encoded data removed]"
          },
          "metadata": {
            "needs_background": "light"
          }
        }
      ]
    },
    {
      "cell_type": "code",
      "source": [
        "from sklearn.metrics import classification_report\n",
        "y_pred = model_3.predict(x_test)\n",
        "print(classification_report(y_test,y_pred))"
      ],
      "metadata": {
        "colab": {
          "base_uri": "https://localhost:8080/"
        },
        "id": "e7-AS5IGRh5Q",
        "outputId": "1758dc30-bef7-4513-ad5d-f1afa11bfa3b"
      },
      "id": "e7-AS5IGRh5Q",
      "execution_count": null,
      "outputs": [
        {
          "output_type": "stream",
          "name": "stdout",
          "text": [
            "              precision    recall  f1-score   support\n",
            "\n",
            "           3       0.00      0.00      0.00         2\n",
            "           4       0.00      0.00      0.00        11\n",
            "           5       0.75      0.85      0.80       135\n",
            "           6       0.75      0.73      0.74       142\n",
            "           7       0.54      0.52      0.53        27\n",
            "           8       0.00      0.00      0.00         3\n",
            "\n",
            "    accuracy                           0.73       320\n",
            "   macro avg       0.34      0.35      0.34       320\n",
            "weighted avg       0.69      0.73      0.71       320\n",
            "\n"
          ]
        },
        {
          "output_type": "stream",
          "name": "stderr",
          "text": [
            "/usr/local/lib/python3.8/dist-packages/sklearn/metrics/_classification.py:1318: UndefinedMetricWarning: Precision and F-score are ill-defined and being set to 0.0 in labels with no predicted samples. Use `zero_division` parameter to control this behavior.\n",
            "  _warn_prf(average, modifier, msg_start, len(result))\n",
            "/usr/local/lib/python3.8/dist-packages/sklearn/metrics/_classification.py:1318: UndefinedMetricWarning: Precision and F-score are ill-defined and being set to 0.0 in labels with no predicted samples. Use `zero_division` parameter to control this behavior.\n",
            "  _warn_prf(average, modifier, msg_start, len(result))\n",
            "/usr/local/lib/python3.8/dist-packages/sklearn/metrics/_classification.py:1318: UndefinedMetricWarning: Precision and F-score are ill-defined and being set to 0.0 in labels with no predicted samples. Use `zero_division` parameter to control this behavior.\n",
            "  _warn_prf(average, modifier, msg_start, len(result))\n"
          ]
        }
      ]
    },
    {
      "cell_type": "markdown",
      "id": "f754cf6a-e976-4e4d-83de-3fba55af079b",
      "metadata": {
        "id": "f754cf6a-e976-4e4d-83de-3fba55af079b"
      },
      "source": [
        "# Kesimpulan"
      ]
    },
    {
      "cell_type": "markdown",
      "id": "06715ae1-de7c-4095-9570-9b861120d6b5",
      "metadata": {
        "id": "06715ae1-de7c-4095-9570-9b861120d6b5"
      },
      "source": [
        "Perbandingan hasil evaluasi dari setiap model"
      ]
    },
    {
      "cell_type": "markdown",
      "id": "606f9049-fb2a-4bf3-a139-5575872a3411",
      "metadata": {
        "id": "606f9049-fb2a-4bf3-a139-5575872a3411"
      },
      "source": [
        "|Model|Metriks evaluasi1|\n",
        "|---|---|\n",
        "|SVM|0.59|\n",
        "|KNN| 0.65 |\n",
        "|Bayes|0.578|\n",
        "|MLR|0.358|\n",
        "|RF|0.73|"
      ]
    },
    {
      "cell_type": "markdown",
      "id": "e9838c64-d660-4c67-ae6d-b56c3c884501",
      "metadata": {
        "id": "e9838c64-d660-4c67-ae6d-b56c3c884501"
      },
      "source": [
        "Lalu berikan penjelasan."
      ]
    },
    {
      "cell_type": "markdown",
      "source": [
        "Setelah dilakukan analisis data dengan menggunakan lima metode klasifikasi, yaitu SVM (*support vector machine*), KNN (*k-nearest neighbor*), *Gaussian Naive Bayes*, MLR (*multivariate linear regression*), dan RF (*random forest*) diperoleh kesimpulan bahwa pengklasifikasian data diatas lebih akurat jika menggunakan metode RF atau *random forest*. Nilai akurasi yang didapatkan jika data dianalisis dan diklasifikasikan berdasarkan metode RF adalah 0.73 atau 73%."
      ],
      "metadata": {
        "id": "utG3iUygnXOu"
      },
      "id": "utG3iUygnXOu"
    }
  ],
  "metadata": {
    "kernelspec": {
      "display_name": "Python 3",
      "language": "python",
      "name": "python3"
    },
    "language_info": {
      "codemirror_mode": {
        "name": "ipython",
        "version": 3
      },
      "file_extension": ".py",
      "mimetype": "text/x-python",
      "name": "python",
      "nbconvert_exporter": "python",
      "pygments_lexer": "ipython3",
      "version": "3.8.8"
    },
    "colab": {
      "provenance": [],
      "collapsed_sections": [
        "cdf50ee4-971e-4d59-9c14-ad969eb7dddd",
        "1bb4b5d6-40a2-4dfe-8f3d-a412dd77db9b",
        "cabf5730-fafd-4ecf-a15c-9a99be34a815",
        "8a93bdcc-784a-4ab9-9a34-86a552a2315a",
        "4a977a82-85dc-4495-bd1c-8514c7e17667",
        "vD1yM5OdLWW-"
      ]
    }
  },
  "nbformat": 4,
  "nbformat_minor": 5
}